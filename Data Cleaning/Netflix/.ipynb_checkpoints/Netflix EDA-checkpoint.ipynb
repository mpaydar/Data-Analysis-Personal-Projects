{
 "cells": [
  {
   "cell_type": "code",
   "execution_count": 1,
   "id": "db87ed2b",
   "metadata": {},
   "outputs": [
    {
     "data": {
      "text/html": [
       "<div>\n",
       "<style scoped>\n",
       "    .dataframe tbody tr th:only-of-type {\n",
       "        vertical-align: middle;\n",
       "    }\n",
       "\n",
       "    .dataframe tbody tr th {\n",
       "        vertical-align: top;\n",
       "    }\n",
       "\n",
       "    .dataframe thead th {\n",
       "        text-align: right;\n",
       "    }\n",
       "</style>\n",
       "<table border=\"1\" class=\"dataframe\">\n",
       "  <thead>\n",
       "    <tr style=\"text-align: right;\">\n",
       "      <th></th>\n",
       "      <th>show_id</th>\n",
       "      <th>type</th>\n",
       "      <th>title</th>\n",
       "      <th>director</th>\n",
       "      <th>country</th>\n",
       "      <th>date_added</th>\n",
       "      <th>release_year</th>\n",
       "      <th>rating</th>\n",
       "      <th>duration</th>\n",
       "      <th>Genre</th>\n",
       "    </tr>\n",
       "  </thead>\n",
       "  <tbody>\n",
       "    <tr>\n",
       "      <th>0</th>\n",
       "      <td>s1</td>\n",
       "      <td>Movie</td>\n",
       "      <td>Dick Johnson Is Dead</td>\n",
       "      <td>Kirsten Johnson</td>\n",
       "      <td>United States</td>\n",
       "      <td>9/25/2021</td>\n",
       "      <td>2020</td>\n",
       "      <td>PG-13</td>\n",
       "      <td>90 min</td>\n",
       "      <td>Documentaries</td>\n",
       "    </tr>\n",
       "    <tr>\n",
       "      <th>1</th>\n",
       "      <td>s3</td>\n",
       "      <td>TV Show</td>\n",
       "      <td>Ganglands</td>\n",
       "      <td>Julien Leclercq</td>\n",
       "      <td>France</td>\n",
       "      <td>9/24/2021</td>\n",
       "      <td>2021</td>\n",
       "      <td>TV-MA</td>\n",
       "      <td>1 Season</td>\n",
       "      <td>Crime TV Shows, International TV Shows, TV Act...</td>\n",
       "    </tr>\n",
       "    <tr>\n",
       "      <th>2</th>\n",
       "      <td>s6</td>\n",
       "      <td>TV Show</td>\n",
       "      <td>Midnight Mass</td>\n",
       "      <td>Mike Flanagan</td>\n",
       "      <td>United States</td>\n",
       "      <td>9/24/2021</td>\n",
       "      <td>2021</td>\n",
       "      <td>TV-MA</td>\n",
       "      <td>1 Season</td>\n",
       "      <td>TV Dramas, TV Horror, TV Mysteries</td>\n",
       "    </tr>\n",
       "    <tr>\n",
       "      <th>3</th>\n",
       "      <td>s14</td>\n",
       "      <td>Movie</td>\n",
       "      <td>Confessions of an Invisible Girl</td>\n",
       "      <td>Bruno Garotti</td>\n",
       "      <td>Brazil</td>\n",
       "      <td>9/22/2021</td>\n",
       "      <td>2021</td>\n",
       "      <td>TV-PG</td>\n",
       "      <td>91 min</td>\n",
       "      <td>Children &amp; Family Movies, Comedies</td>\n",
       "    </tr>\n",
       "    <tr>\n",
       "      <th>4</th>\n",
       "      <td>s8</td>\n",
       "      <td>Movie</td>\n",
       "      <td>Sankofa</td>\n",
       "      <td>Haile Gerima</td>\n",
       "      <td>United States</td>\n",
       "      <td>9/24/2021</td>\n",
       "      <td>1993</td>\n",
       "      <td>TV-MA</td>\n",
       "      <td>125 min</td>\n",
       "      <td>Dramas, Independent Movies, International Movies</td>\n",
       "    </tr>\n",
       "  </tbody>\n",
       "</table>\n",
       "</div>"
      ],
      "text/plain": [
       "  show_id     type                             title         director  \\\n",
       "0      s1    Movie              Dick Johnson Is Dead  Kirsten Johnson   \n",
       "1      s3  TV Show                         Ganglands  Julien Leclercq   \n",
       "2      s6  TV Show                     Midnight Mass    Mike Flanagan   \n",
       "3     s14    Movie  Confessions of an Invisible Girl    Bruno Garotti   \n",
       "4      s8    Movie                           Sankofa     Haile Gerima   \n",
       "\n",
       "         country date_added  release_year rating  duration  \\\n",
       "0  United States  9/25/2021          2020  PG-13    90 min   \n",
       "1         France  9/24/2021          2021  TV-MA  1 Season   \n",
       "2  United States  9/24/2021          2021  TV-MA  1 Season   \n",
       "3         Brazil  9/22/2021          2021  TV-PG    91 min   \n",
       "4  United States  9/24/2021          1993  TV-MA   125 min   \n",
       "\n",
       "                                               Genre  \n",
       "0                                      Documentaries  \n",
       "1  Crime TV Shows, International TV Shows, TV Act...  \n",
       "2                 TV Dramas, TV Horror, TV Mysteries  \n",
       "3                 Children & Family Movies, Comedies  \n",
       "4   Dramas, Independent Movies, International Movies  "
      ]
     },
     "execution_count": 1,
     "metadata": {},
     "output_type": "execute_result"
    }
   ],
   "source": [
    "import pandas as pd\n",
    "import seaborn as sns\n",
    "import matplotlib.pyplot as plt\n",
    "df=pd.read_csv(\"https://raw.githubusercontent.com/mpaydar/Data-Analysis-Personal-Projects/main/Data%20Cleaning/Netflix/netflix1.csv\")\n",
    "df=df.rename(columns={\"listed_in\":\"Genre\"})\n",
    "df.head()"
   ]
  },
  {
   "cell_type": "markdown",
   "id": "8ba6ffec",
   "metadata": {},
   "source": [
    "### Shape of the data: number of column and rows"
   ]
  },
  {
   "cell_type": "code",
   "execution_count": 2,
   "id": "78163e74",
   "metadata": {},
   "outputs": [
    {
     "name": "stdout",
     "output_type": "stream",
     "text": [
      "rows:8790 , columns:10\n"
     ]
    }
   ],
   "source": [
    "row,col=df.shape\n",
    "print(f'rows:{row} , columns:{col}')"
   ]
  },
  {
   "cell_type": "markdown",
   "id": "94f71485",
   "metadata": {},
   "source": [
    "### Columns Names"
   ]
  },
  {
   "cell_type": "code",
   "execution_count": 3,
   "id": "a2bc0d9a",
   "metadata": {},
   "outputs": [
    {
     "data": {
      "text/plain": [
       "Index(['show_id', 'type', 'title', 'director', 'country', 'date_added',\n",
       "       'release_year', 'rating', 'duration', 'Genre'],\n",
       "      dtype='object')"
      ]
     },
     "execution_count": 3,
     "metadata": {},
     "output_type": "execute_result"
    }
   ],
   "source": [
    "columns=df.columns\n",
    "columns"
   ]
  },
  {
   "cell_type": "markdown",
   "id": "73666bca",
   "metadata": {},
   "source": [
    "### Data Type of dataset"
   ]
  },
  {
   "cell_type": "code",
   "execution_count": 4,
   "id": "da3163cc",
   "metadata": {},
   "outputs": [
    {
     "name": "stdout",
     "output_type": "stream",
     "text": [
      "<class 'pandas.core.frame.DataFrame'>\n",
      "RangeIndex: 8790 entries, 0 to 8789\n",
      "Data columns (total 10 columns):\n",
      " #   Column        Non-Null Count  Dtype \n",
      "---  ------        --------------  ----- \n",
      " 0   show_id       8790 non-null   object\n",
      " 1   type          8790 non-null   object\n",
      " 2   title         8790 non-null   object\n",
      " 3   director      8790 non-null   object\n",
      " 4   country       8790 non-null   object\n",
      " 5   date_added    8790 non-null   object\n",
      " 6   release_year  8790 non-null   int64 \n",
      " 7   rating        8790 non-null   object\n",
      " 8   duration      8790 non-null   object\n",
      " 9   Genre         8790 non-null   object\n",
      "dtypes: int64(1), object(9)\n",
      "memory usage: 686.8+ KB\n"
     ]
    }
   ],
   "source": [
    "df.info()"
   ]
  },
  {
   "cell_type": "markdown",
   "id": "9caf7c6e",
   "metadata": {},
   "source": [
    "The Non-Null Count of each column is equal to the number of rows in data. In other words, there are no null values in the dataset. In addition to this fact, we can see that different data types which are object/string data types."
   ]
  },
  {
   "cell_type": "code",
   "execution_count": 5,
   "id": "5b7428f5",
   "metadata": {},
   "outputs": [
    {
     "data": {
      "text/plain": [
       "<AxesSubplot:>"
      ]
     },
     "execution_count": 5,
     "metadata": {},
     "output_type": "execute_result"
    },
    {
     "data": {
      "image/png": "[encoded data removed]",
      "text/plain": [
       "<Figure size 1000x500 with 1 Axes>"
      ]
     },
     "metadata": {},
     "output_type": "display_data"
    }
   ],
   "source": [
    "fig=plt.figure(figsize=(10,5))\n",
    "x_axis=df['rating'].value_counts().index\n",
    "y_axis=df['rating'].value_counts().values\n",
    "sns.barplot(x=x_axis,y=y_axis)"
   ]
  },
  {
   "cell_type": "markdown",
   "id": "f8d3c3e4",
   "metadata": {},
   "source": [
    "At this point, it would be a good idea to become familiar with what each TV Rating means.\n",
    " \n",
    "\n",
    "- **TV-MA (Mature Audience)**: This rating is intended for mature audiences and is typically not suitable for viewers under 17 years old. It may contain strong language, sexual content, violence, or other mature themes.\n",
    "\n",
    "- **TV-14**: This rating is intended for viewers aged 14 and older. The content may include intense violence, sexual content, crude humor, or strong language.\n",
    "\n",
    "- **TV-PG (Parental Guidance)**: This rating suggests that the program may contain material that parents might consider unsuitable for children under the age of 7. Parents are advised to watch with their children and provide guidance.\n",
    "\n",
    "- **R (Restricted)**: This movie rating indicates that individuals under 17 years old are not admitted unless accompanied by a parent or adult guardian. The content may include strong language, intense violence, sexual content, or other adult themes.\n",
    "\n",
    "- **PG-13**: This rating indicates that some material may be inappropriate for children under 13. Parents are cautioned to review the content before allowing their children to watch. It may contain strong language, intense violence, or some suggestive material.\n",
    "\n",
    "- **TV-Y7**: This rating is designed for children aged 7 and older. It may include mild fantasy violence or comedic content that is generally safe for young viewers.\n",
    "\n",
    "- **TV-Y**: This rating is intended for children of all ages. The content is considered suitable for all children, with no potentially offensive or inappropriate material.\n",
    "\n",
    "- **PG**: This movie rating suggests parental guidance. Some material may not be suitable for children. It may contain mild language, some violence, or thematic elements.\n",
    "\n",
    "- **TV-G**: This rating signifies that the content is suitable for all ages. It is considered appropriate for general audiences, including children.\n",
    "\n",
    "- **NR (Not Rated)**: This indicates that a movie or program has not been assigned a rating by a rating organization. It might be used for independent films or content not submitted for a formal rating.\n",
    "\n",
    "- **G**: This movie rating indicates that the content is suitable for all audiences. It contains nothing that would offend parents of children.\n",
    "\n",
    "- **TV-Y7-FV**: This rating indicates that the program is designed for children aged 7 and older, and it may contain more fantasy violence compared to regular TV-Y7 content.\n",
    "\n",
    "- **NC-17**: This movie rating signifies that no one 17 and under admitted. It is similar to an \"R\" rating, but the content is considered more explicit or adult-oriented.\n",
    "\n",
    "- **UR (Unrated)**: This indicates that a movie has not been assigned a rating or that its rating is not applicable. It's used for various reasons, including extended or unrated versions of films.\n",
    "\n",
    "**Overall, we can see  most of the movies on Netflix include programs that are more for adult audience. That being said,I would like to mention the fact there seems to be clear regulation that prevent the movie to be explictly adult film which is reasonable enough.**"
   ]
  },
  {
   "cell_type": "markdown",
   "id": "d013c65e",
   "metadata": {},
   "source": [
    "### Country Representation "
   ]
  },
  {
   "cell_type": "code",
   "execution_count": 6,
   "id": "3a3bf851",
   "metadata": {},
   "outputs": [
    {
     "data": {
      "text/plain": [
       "array(['United States', 'France', 'Brazil', 'United Kingdom', 'India',\n",
       "       'Germany', 'Pakistan', 'Not Given', 'China', 'South Africa',\n",
       "       'Japan', 'Nigeria', 'Spain', 'Philippines', 'Australia',\n",
       "       'Argentina', 'Canada', 'Hong Kong', 'Italy', 'New Zealand',\n",
       "       'Egypt', 'Colombia', 'Mexico', 'Belgium', 'Switzerland', 'Taiwan',\n",
       "       'Bulgaria', 'Poland', 'South Korea', 'Saudi Arabia', 'Thailand',\n",
       "       'Indonesia', 'Kuwait', 'Malaysia', 'Vietnam', 'Lebanon', 'Romania',\n",
       "       'Syria', 'United Arab Emirates', 'Sweden', 'Mauritius', 'Austria',\n",
       "       'Turkey', 'Czech Republic', 'Cameroon', 'Netherlands', 'Ireland',\n",
       "       'Russia', 'Kenya', 'Chile', 'Uruguay', 'Bangladesh', 'Portugal',\n",
       "       'Hungary', 'Norway', 'Singapore', 'Iceland', 'Serbia', 'Namibia',\n",
       "       'Peru', 'Mozambique', 'Ghana', 'Zimbabwe', 'Israel', 'Finland',\n",
       "       'Denmark', 'Paraguay', 'Cambodia', 'Georgia', 'Soviet Union',\n",
       "       'Greece', 'West Germany', 'Iran', 'Venezuela', 'Slovenia',\n",
       "       'Guatemala', 'Jamaica', 'Somalia', 'Croatia', 'Jordan',\n",
       "       'Luxembourg', 'Senegal', 'Belarus', 'Puerto Rico', 'Cyprus',\n",
       "       'Ukraine'], dtype=object)"
      ]
     },
     "execution_count": 6,
     "metadata": {},
     "output_type": "execute_result"
    }
   ],
   "source": [
    "df.country.unique()"
   ]
  },
  {
   "cell_type": "markdown",
   "id": "ea43fa1b",
   "metadata": {},
   "source": [
    "When inspecting the individual country in the dataset, there is an invalid category \"Not Given\" that need remedification. I would suggest investigating the rows with country missing. It would be a good idea to see how many rows have the country as \"Not Given\". "
   ]
  },
  {
   "cell_type": "markdown",
   "id": "d67390d6",
   "metadata": {},
   "source": [
    "## no-country enteries"
   ]
  },
  {
   "cell_type": "code",
   "execution_count": 7,
   "id": "6d7e0dd1",
   "metadata": {
    "scrolled": false
   },
   "outputs": [
    {
     "name": "stdout",
     "output_type": "stream",
     "text": [
      "There are 287 rows with Not \"Not Given\" for the country column, which is about 3.2650739476678043% of the data\n"
     ]
    }
   ],
   "source": [
    "df_copy=df[['country','director']]\n",
    "df_copy=df_copy[df_copy['country'] == 'Not Given']\n",
    "df_copy_shape=df_copy.shape\n",
    "print(f\"There are {df_copy_shape[0]} rows with Not \\\"Not Given\\\" for the country column, which is about {(df_copy_shape[0]/row)*100}% of the data\")\n"
   ]
  },
  {
   "cell_type": "markdown",
   "id": "0d9936ac",
   "metadata": {},
   "source": [
    "Although 3% of rows have \"Not Given\" for the country, leaving the countries as \"Not Given\" won't hurt our EDA Analysis."
   ]
  },
  {
   "cell_type": "markdown",
   "id": "c8c1eb54",
   "metadata": {},
   "source": [
    "### Director that have \"Not Given\" in Country Column"
   ]
  },
  {
   "cell_type": "code",
   "execution_count": 8,
   "id": "e793e176",
   "metadata": {},
   "outputs": [
    {
     "data": {
      "text/plain": [
       "Prakash Satam          7\n",
       "Joey So                6\n",
       "Hidenori Inoue         6\n",
       "S.S. Rajamouli         5\n",
       "Rathindran R Prasad    4\n",
       "Name: director, dtype: int64"
      ]
     },
     "execution_count": 8,
     "metadata": {},
     "output_type": "execute_result"
    }
   ],
   "source": [
    "Missing_country_directors=df_copy['director'].value_counts().head()\n",
    "Missing_country_directors"
   ]
  },
  {
   "cell_type": "markdown",
   "id": "76ff4276",
   "metadata": {},
   "source": [
    "Looking at the top 5 directors having missing country, we see the above directors from countries like India and Japon. Now, discarding works from directors that don't have much work on netflix database is wise as filling it with the mode value of country column could mirepresent a different country. It would be wise to drop directors that have country column missing."
   ]
  },
  {
   "cell_type": "markdown",
   "id": "cb44abe7",
   "metadata": {},
   "source": [
    "### Director Column"
   ]
  },
  {
   "cell_type": "code",
   "execution_count": 9,
   "id": "acce62d1",
   "metadata": {},
   "outputs": [
    {
     "data": {
      "text/plain": [
       "Not Given                         2588\n",
       "Rajiv Chilaka                       20\n",
       "Alastair Fothergill                 18\n",
       "Raúl Campos, Jan Suter              18\n",
       "Suhas Kadav                         16\n",
       "                                  ... \n",
       "Matt D'Avella                        1\n",
       "Parthiban                            1\n",
       "Scott McAboy                         1\n",
       "Raymie Muzquiz, Stu Livingston       1\n",
       "Mozez Singh                          1\n",
       "Name: director, Length: 4528, dtype: int64"
      ]
     },
     "execution_count": 9,
     "metadata": {},
     "output_type": "execute_result"
    }
   ],
   "source": [
    "df['director'].value_counts()"
   ]
  },
  {
   "cell_type": "markdown",
   "id": "2a2cbb3c",
   "metadata": {},
   "source": [
    "The first thing that is eye catching is the number of \"Not Given\" director for the dataset, 2588!"
   ]
  },
  {
   "cell_type": "code",
   "execution_count": 10,
   "id": "5ef6da27",
   "metadata": {},
   "outputs": [
    {
     "name": "stdout",
     "output_type": "stream",
     "text": [
      "If we decide to drop rows with missing directors , it would cause the loss of 29.44254835039818% of the dataset\n"
     ]
    }
   ],
   "source": [
    "loss_ratio=2588/row\n",
    "print(f\"If we decide to drop rows with missing directors , it would cause the loss of {loss_ratio*100}% of the dataset\")"
   ]
  },
  {
   "cell_type": "markdown",
   "id": "5c8fd05d",
   "metadata": {},
   "source": [
    "### Which movies have missing directors?"
   ]
  },
  {
   "cell_type": "code",
   "execution_count": 11,
   "id": "6f8944d5",
   "metadata": {},
   "outputs": [
    {
     "data": {
      "text/html": [
       "<div>\n",
       "<style scoped>\n",
       "    .dataframe tbody tr th:only-of-type {\n",
       "        vertical-align: middle;\n",
       "    }\n",
       "\n",
       "    .dataframe tbody tr th {\n",
       "        vertical-align: top;\n",
       "    }\n",
       "\n",
       "    .dataframe thead th {\n",
       "        text-align: right;\n",
       "    }\n",
       "</style>\n",
       "<table border=\"1\" class=\"dataframe\">\n",
       "  <thead>\n",
       "    <tr style=\"text-align: right;\">\n",
       "      <th></th>\n",
       "      <th>director</th>\n",
       "      <th>title</th>\n",
       "    </tr>\n",
       "  </thead>\n",
       "  <tbody>\n",
       "    <tr>\n",
       "      <th>12</th>\n",
       "      <td>Not Given</td>\n",
       "      <td>99 Songs (Tamil)</td>\n",
       "    </tr>\n",
       "    <tr>\n",
       "      <th>17</th>\n",
       "      <td>Not Given</td>\n",
       "      <td>Jailbirds New Orleans</td>\n",
       "    </tr>\n",
       "    <tr>\n",
       "      <th>18</th>\n",
       "      <td>Not Given</td>\n",
       "      <td>Crime Stories: India Detectives</td>\n",
       "    </tr>\n",
       "    <tr>\n",
       "      <th>33</th>\n",
       "      <td>Not Given</td>\n",
       "      <td>Jaguar</td>\n",
       "    </tr>\n",
       "    <tr>\n",
       "      <th>34</th>\n",
       "      <td>Not Given</td>\n",
       "      <td>Chicago Party Aunt</td>\n",
       "    </tr>\n",
       "    <tr>\n",
       "      <th>35</th>\n",
       "      <td>Not Given</td>\n",
       "      <td>Squid Game</td>\n",
       "    </tr>\n",
       "    <tr>\n",
       "      <th>36</th>\n",
       "      <td>Not Given</td>\n",
       "      <td>Tayo and Little Wizards</td>\n",
       "    </tr>\n",
       "    <tr>\n",
       "      <th>37</th>\n",
       "      <td>Not Given</td>\n",
       "      <td>The World's Most Amazing Vacation Rentals</td>\n",
       "    </tr>\n",
       "    <tr>\n",
       "      <th>38</th>\n",
       "      <td>Not Given</td>\n",
       "      <td>Metal Shop Masters</td>\n",
       "    </tr>\n",
       "    <tr>\n",
       "      <th>39</th>\n",
       "      <td>Not Given</td>\n",
       "      <td>Pokémon Master Journeys: The Series</td>\n",
       "    </tr>\n",
       "  </tbody>\n",
       "</table>\n",
       "</div>"
      ],
      "text/plain": [
       "     director                                      title\n",
       "12  Not Given                           99 Songs (Tamil)\n",
       "17  Not Given                      Jailbirds New Orleans\n",
       "18  Not Given            Crime Stories: India Detectives\n",
       "33  Not Given                                     Jaguar\n",
       "34  Not Given                         Chicago Party Aunt\n",
       "35  Not Given                                 Squid Game\n",
       "36  Not Given                    Tayo and Little Wizards\n",
       "37  Not Given  The World's Most Amazing Vacation Rentals\n",
       "38  Not Given                         Metal Shop Masters\n",
       "39  Not Given        Pokémon Master Journeys: The Series"
      ]
     },
     "execution_count": 11,
     "metadata": {},
     "output_type": "execute_result"
    }
   ],
   "source": [
    "directory_title=df[['director','title']]\n",
    "directory_title[directory_title['director']=='Not Given'].head(10)"
   ]
  },
  {
   "cell_type": "code",
   "execution_count": 12,
   "id": "17213f51",
   "metadata": {},
   "outputs": [
    {
     "name": "stdout",
     "output_type": "stream",
     "text": [
      "Number of movies with missing director: 8790\n"
     ]
    }
   ],
   "source": [
    "print(f\"Number of movies with missing director: {directory_title.shape[0]}\")"
   ]
  },
  {
   "cell_type": "markdown",
   "id": "714034ca",
   "metadata": {},
   "source": [
    "The best choice for such movies is to treat 'Not Given' as a category. That way, we are not lossing any data."
   ]
  },
  {
   "cell_type": "markdown",
   "id": "34936a64",
   "metadata": {},
   "source": [
    "### Show Type Visualization"
   ]
  },
  {
   "cell_type": "code",
   "execution_count": 13,
   "id": "fd39352c",
   "metadata": {},
   "outputs": [
    {
     "data": {
      "text/plain": [
       "Text(0, 0.5, 'Number of shows')"
      ]
     },
     "execution_count": 13,
     "metadata": {},
     "output_type": "execute_result"
    },
    {
     "data": {
      "image/png": "[encoded data removed]",
      "text/plain": [
       "<Figure size 640x480 with 1 Axes>"
      ]
     },
     "metadata": {},
     "output_type": "display_data"
    }
   ],
   "source": [
    "type_x=df['type'].value_counts().index\n",
    "type_y=df['type'].value_counts().values\n",
    "sns.barplot(x=type_x,y=type_y)\n",
    "plt.title(\"Number of different show Types on Netflix\")\n",
    "plt.ylabel(\"Number of shows\")"
   ]
  },
  {
   "cell_type": "markdown",
   "id": "f8972fc1",
   "metadata": {},
   "source": [
    "There are more movies than TV Show on Netflix"
   ]
  },
  {
   "cell_type": "markdown",
   "id": "c1f7ae66",
   "metadata": {},
   "source": [
    "### release year situation"
   ]
  },
  {
   "cell_type": "code",
   "execution_count": 14,
   "id": "7902998c",
   "metadata": {},
   "outputs": [
    {
     "data": {
      "image/png": "[encoded data removed]",
      "text/plain": [
       "<Figure size 1500x1200 with 1 Axes>"
      ]
     },
     "metadata": {},
     "output_type": "display_data"
    }
   ],
   "source": [
    "plt.figure(figsize=(15,12))\n",
    "year_minimum=df['release_year'].min()\n",
    "year_maximum=df['release_year'].max()\n",
    "\n",
    "sns.boxplot(y=df['release_year'])\n",
    "plt.yticks(range(year_minimum, year_maximum, 2)) \n",
    "plt.show()"
   ]
  },
  {
   "cell_type": "markdown",
   "id": "5d329419",
   "metadata": {},
   "source": [
    "**Interesting insights:**\n",
    "- The mean of release year: 2017 \n",
    "- Minimum year : 1925\n",
    "- Maximum year : 2021"
   ]
  },
  {
   "cell_type": "code",
   "execution_count": 15,
   "id": "cd4b14ee",
   "metadata": {},
   "outputs": [
    {
     "name": "stdout",
     "output_type": "stream",
     "text": [
      "1st Quartile:2013.0 \n",
      "Year-IQR:6.0 \n",
      "3rd Quartile is: 2019.0\n",
      "Minimum Year:1925\n",
      "Maximum Year:2021\n"
     ]
    }
   ],
   "source": [
    "year_median=df['release_year'].median()\n",
    "q1_year=df.release_year.quantile(q=0.25)\n",
    "q3_year=df.release_year.quantile(q=0.75)\n",
    "\n",
    "year_IQR=q3_year- q1_year\n",
    "print(f\"1st Quartile:{q1_year} \\nYear-IQR:{year_IQR} \\n3rd Quartile is: {q3_year}\\nMinimum Year:{year_minimum}\\nMaximum Year:{year_maximum}\")"
   ]
  },
  {
   "cell_type": "markdown",
   "id": "828641ed",
   "metadata": {},
   "source": [
    "The only outlier I would point from the boxplot is the one that corresponds with 1925. I would like to the movie which was released in 1925."
   ]
  },
  {
   "cell_type": "code",
   "execution_count": 16,
   "id": "8921faa9",
   "metadata": {},
   "outputs": [
    {
     "data": {
      "text/html": [
       "<div>\n",
       "<style scoped>\n",
       "    .dataframe tbody tr th:only-of-type {\n",
       "        vertical-align: middle;\n",
       "    }\n",
       "\n",
       "    .dataframe tbody tr th {\n",
       "        vertical-align: top;\n",
       "    }\n",
       "\n",
       "    .dataframe thead th {\n",
       "        text-align: right;\n",
       "    }\n",
       "</style>\n",
       "<table border=\"1\" class=\"dataframe\">\n",
       "  <thead>\n",
       "    <tr style=\"text-align: right;\">\n",
       "      <th></th>\n",
       "      <th>show_id</th>\n",
       "      <th>type</th>\n",
       "      <th>title</th>\n",
       "      <th>director</th>\n",
       "      <th>country</th>\n",
       "      <th>date_added</th>\n",
       "      <th>release_year</th>\n",
       "      <th>rating</th>\n",
       "      <th>duration</th>\n",
       "      <th>Genre</th>\n",
       "    </tr>\n",
       "  </thead>\n",
       "  <tbody>\n",
       "    <tr>\n",
       "      <th>421</th>\n",
       "      <td>s4251</td>\n",
       "      <td>TV Show</td>\n",
       "      <td>Pioneers: First Women Filmmakers*</td>\n",
       "      <td>Not Given</td>\n",
       "      <td>Pakistan</td>\n",
       "      <td>12/30/2018</td>\n",
       "      <td>1925</td>\n",
       "      <td>TV-14</td>\n",
       "      <td>1 Season</td>\n",
       "      <td>TV Shows</td>\n",
       "    </tr>\n",
       "  </tbody>\n",
       "</table>\n",
       "</div>"
      ],
      "text/plain": [
       "    show_id     type                              title   director   country  \\\n",
       "421   s4251  TV Show  Pioneers: First Women Filmmakers*  Not Given  Pakistan   \n",
       "\n",
       "     date_added  release_year rating  duration     Genre  \n",
       "421  12/30/2018          1925  TV-14  1 Season  TV Shows  "
      ]
     },
     "execution_count": 16,
     "metadata": {},
     "output_type": "execute_result"
    }
   ],
   "source": [
    "df[df['release_year'] == 1925]"
   ]
  },
  {
   "cell_type": "markdown",
   "id": "292af27e",
   "metadata": {},
   "source": [
    "The TV Show Pioneers: First Women Filmmakers is a tv show from the early days of cinema. When searching for the movie name on internet given the release year I find out that the country of the show is not Pakistan. The country is United State of America."
   ]
  },
  {
   "cell_type": "code",
   "execution_count": 17,
   "id": "1cb5c57f",
   "metadata": {},
   "outputs": [],
   "source": [
    "df2=df[['type','country']].copy(deep=True)"
   ]
  },
  {
   "cell_type": "markdown",
   "id": "fafab62d",
   "metadata": {},
   "source": [
    "### Top 5 Countries with the Highest Movie Production"
   ]
  },
  {
   "cell_type": "code",
   "execution_count": 18,
   "id": "78afa8fd",
   "metadata": {
    "scrolled": true
   },
   "outputs": [
    {
     "data": {
      "text/html": [
       "<div>\n",
       "<style scoped>\n",
       "    .dataframe tbody tr th:only-of-type {\n",
       "        vertical-align: middle;\n",
       "    }\n",
       "\n",
       "    .dataframe tbody tr th {\n",
       "        vertical-align: top;\n",
       "    }\n",
       "\n",
       "    .dataframe thead th {\n",
       "        text-align: right;\n",
       "    }\n",
       "</style>\n",
       "<table border=\"1\" class=\"dataframe\">\n",
       "  <thead>\n",
       "    <tr style=\"text-align: right;\">\n",
       "      <th></th>\n",
       "      <th>type</th>\n",
       "      <th>country</th>\n",
       "      <th>Number of Works</th>\n",
       "    </tr>\n",
       "  </thead>\n",
       "  <tbody>\n",
       "    <tr>\n",
       "      <th>0</th>\n",
       "      <td>Movie</td>\n",
       "      <td>United States</td>\n",
       "      <td>2395</td>\n",
       "    </tr>\n",
       "    <tr>\n",
       "      <th>1</th>\n",
       "      <td>Movie</td>\n",
       "      <td>India</td>\n",
       "      <td>976</td>\n",
       "    </tr>\n",
       "    <tr>\n",
       "      <th>2</th>\n",
       "      <td>Movie</td>\n",
       "      <td>United Kingdom</td>\n",
       "      <td>387</td>\n",
       "    </tr>\n",
       "    <tr>\n",
       "      <th>4</th>\n",
       "      <td>Movie</td>\n",
       "      <td>Canada</td>\n",
       "      <td>187</td>\n",
       "    </tr>\n",
       "    <tr>\n",
       "      <th>5</th>\n",
       "      <td>Movie</td>\n",
       "      <td>France</td>\n",
       "      <td>148</td>\n",
       "    </tr>\n",
       "  </tbody>\n",
       "</table>\n",
       "</div>"
      ],
      "text/plain": [
       "    type         country  Number of Works\n",
       "0  Movie   United States             2395\n",
       "1  Movie           India              976\n",
       "2  Movie  United Kingdom              387\n",
       "4  Movie          Canada              187\n",
       "5  Movie          France              148"
      ]
     },
     "execution_count": 18,
     "metadata": {},
     "output_type": "execute_result"
    }
   ],
   "source": [
    "x=df2[df2['type']=='Movie'].value_counts()\n",
    "movie_frame=pd.DataFrame({'Number of Works':x})\n",
    "movie_frame=movie_frame.sort_values(by='Number of Works',ascending=False)\n",
    "movie_frame=movie_frame.reset_index()\n",
    "movie_frame=movie_frame[movie_frame['country']!='Not Given']\n",
    "movie_frame.head(5)"
   ]
  },
  {
   "cell_type": "markdown",
   "id": "8f480787",
   "metadata": {},
   "source": [
    "### Movie Production Visualization"
   ]
  },
  {
   "cell_type": "code",
   "execution_count": 19,
   "id": "83a81302",
   "metadata": {},
   "outputs": [
    {
     "data": {
      "image/png": "[encoded data removed]",
      "text/plain": [
       "<Figure size 1200x800 with 1 Axes>"
      ]
     },
     "metadata": {},
     "output_type": "display_data"
    }
   ],
   "source": [
    "\n",
    "plt.figure(figsize=(12,8))\n",
    "sns.barplot(x=movie_frame.country[0:5],y=movie_frame['Number of Works'])\n",
    "plt.title(\"Number of movies produced by top 5 countries\")\n",
    "plt.show()"
   ]
  },
  {
   "cell_type": "markdown",
   "id": "7634ed0b",
   "metadata": {},
   "source": [
    "###  Top 5 Countries with the Highest TV Show Production"
   ]
  },
  {
   "cell_type": "code",
   "execution_count": 20,
   "id": "7f0e17db",
   "metadata": {},
   "outputs": [
    {
     "data": {
      "text/html": [
       "<div>\n",
       "<style scoped>\n",
       "    .dataframe tbody tr th:only-of-type {\n",
       "        vertical-align: middle;\n",
       "    }\n",
       "\n",
       "    .dataframe tbody tr th {\n",
       "        vertical-align: top;\n",
       "    }\n",
       "\n",
       "    .dataframe thead th {\n",
       "        text-align: right;\n",
       "    }\n",
       "</style>\n",
       "<table border=\"1\" class=\"dataframe\">\n",
       "  <thead>\n",
       "    <tr style=\"text-align: right;\">\n",
       "      <th></th>\n",
       "      <th>type</th>\n",
       "      <th>country</th>\n",
       "      <th>Number of Works</th>\n",
       "    </tr>\n",
       "  </thead>\n",
       "  <tbody>\n",
       "    <tr>\n",
       "      <th>0</th>\n",
       "      <td>TV Show</td>\n",
       "      <td>United States</td>\n",
       "      <td>845</td>\n",
       "    </tr>\n",
       "    <tr>\n",
       "      <th>1</th>\n",
       "      <td>TV Show</td>\n",
       "      <td>Pakistan</td>\n",
       "      <td>350</td>\n",
       "    </tr>\n",
       "    <tr>\n",
       "      <th>2</th>\n",
       "      <td>TV Show</td>\n",
       "      <td>United Kingdom</td>\n",
       "      <td>251</td>\n",
       "    </tr>\n",
       "    <tr>\n",
       "      <th>3</th>\n",
       "      <td>TV Show</td>\n",
       "      <td>Japan</td>\n",
       "      <td>172</td>\n",
       "    </tr>\n",
       "    <tr>\n",
       "      <th>4</th>\n",
       "      <td>TV Show</td>\n",
       "      <td>South Korea</td>\n",
       "      <td>165</td>\n",
       "    </tr>\n",
       "  </tbody>\n",
       "</table>\n",
       "</div>"
      ],
      "text/plain": [
       "      type         country  Number of Works\n",
       "0  TV Show   United States              845\n",
       "1  TV Show        Pakistan              350\n",
       "2  TV Show  United Kingdom              251\n",
       "3  TV Show           Japan              172\n",
       "4  TV Show     South Korea              165"
      ]
     },
     "execution_count": 20,
     "metadata": {},
     "output_type": "execute_result"
    }
   ],
   "source": [
    "x2=df2[df2['type']=='TV Show'].value_counts()\n",
    "x2_dataframe=pd.DataFrame({'Number of Works':x2})\n",
    "x2_dataframe=x2_dataframe.sort_values(by='Number of Works',ascending=False)\n",
    "x2_dataframe=x2_dataframe.reset_index()\n",
    "x2_dataframe.head(5)"
   ]
  },
  {
   "cell_type": "markdown",
   "id": "de549b66",
   "metadata": {},
   "source": [
    "### TV Show Production Visualization"
   ]
  },
  {
   "cell_type": "code",
   "execution_count": 21,
   "id": "857e7165",
   "metadata": {},
   "outputs": [
    {
     "data": {
      "image/png": "[encoded data removed]",
      "text/plain": [
       "<Figure size 1300x800 with 1 Axes>"
      ]
     },
     "metadata": {},
     "output_type": "display_data"
    }
   ],
   "source": [
    "plt.figure(figsize=(13,8))\n",
    "sns.barplot(x=x2_dataframe['country'][0:5],y=x2_dataframe['Number of Works'])\n",
    "plt.title(\"Number of Tv show produced by top 5 countries\")\n",
    "\n",
    "plt.show()"
   ]
  },
  {
   "cell_type": "markdown",
   "id": "132b1e44",
   "metadata": {},
   "source": [
    "The common fact we see in both Movie and TV show comparison is the same ranking of United States in both categories(TV show and movies). United States holds the first place by a big margin which is the same as expected. "
   ]
  },
  {
   "cell_type": "markdown",
   "id": "5bf5103b",
   "metadata": {},
   "source": [
    "### Looking at the Genre column"
   ]
  },
  {
   "cell_type": "code",
   "execution_count": 22,
   "id": "ea83cac3",
   "metadata": {},
   "outputs": [
    {
     "name": "stdout",
     "output_type": "stream",
     "text": [
      "There are 513 genre categories\n"
     ]
    }
   ],
   "source": [
    "unique_genres=len(df['Genre'].unique())\n",
    "print(f\"There are {unique_genres} genre categories\")"
   ]
  },
  {
   "cell_type": "code",
   "execution_count": 23,
   "id": "d62e2af8",
   "metadata": {},
   "outputs": [
    {
     "data": {
      "text/html": [
       "<div>\n",
       "<style scoped>\n",
       "    .dataframe tbody tr th:only-of-type {\n",
       "        vertical-align: middle;\n",
       "    }\n",
       "\n",
       "    .dataframe tbody tr th {\n",
       "        vertical-align: top;\n",
       "    }\n",
       "\n",
       "    .dataframe thead th {\n",
       "        text-align: right;\n",
       "    }\n",
       "</style>\n",
       "<table border=\"1\" class=\"dataframe\">\n",
       "  <thead>\n",
       "    <tr style=\"text-align: right;\">\n",
       "      <th></th>\n",
       "      <th>Genre</th>\n",
       "      <th>Total</th>\n",
       "    </tr>\n",
       "  </thead>\n",
       "  <tbody>\n",
       "    <tr>\n",
       "      <th>0</th>\n",
       "      <td>Dramas, International Movies</td>\n",
       "      <td>362</td>\n",
       "    </tr>\n",
       "    <tr>\n",
       "      <th>1</th>\n",
       "      <td>Documentaries</td>\n",
       "      <td>359</td>\n",
       "    </tr>\n",
       "    <tr>\n",
       "      <th>2</th>\n",
       "      <td>Stand-Up Comedy</td>\n",
       "      <td>334</td>\n",
       "    </tr>\n",
       "    <tr>\n",
       "      <th>3</th>\n",
       "      <td>Comedies, Dramas, International Movies</td>\n",
       "      <td>274</td>\n",
       "    </tr>\n",
       "    <tr>\n",
       "      <th>4</th>\n",
       "      <td>Dramas, Independent Movies, International Movies</td>\n",
       "      <td>252</td>\n",
       "    </tr>\n",
       "    <tr>\n",
       "      <th>...</th>\n",
       "      <td>...</td>\n",
       "      <td>...</td>\n",
       "    </tr>\n",
       "    <tr>\n",
       "      <th>508</th>\n",
       "      <td>TV Comedies, TV Dramas, TV Mysteries</td>\n",
       "      <td>1</td>\n",
       "    </tr>\n",
       "    <tr>\n",
       "      <th>509</th>\n",
       "      <td>Action &amp; Adventure, Sci-Fi &amp; Fantasy, Thrillers</td>\n",
       "      <td>1</td>\n",
       "    </tr>\n",
       "    <tr>\n",
       "      <th>510</th>\n",
       "      <td>Action &amp; Adventure, Children &amp; Family Movies, ...</td>\n",
       "      <td>1</td>\n",
       "    </tr>\n",
       "    <tr>\n",
       "      <th>511</th>\n",
       "      <td>Reality TV, TV Horror, TV Thrillers</td>\n",
       "      <td>1</td>\n",
       "    </tr>\n",
       "    <tr>\n",
       "      <th>512</th>\n",
       "      <td>Classic &amp; Cult TV, Crime TV Shows, TV Dramas</td>\n",
       "      <td>1</td>\n",
       "    </tr>\n",
       "  </tbody>\n",
       "</table>\n",
       "<p>513 rows × 2 columns</p>\n",
       "</div>"
      ],
      "text/plain": [
       "                                                 Genre  Total\n",
       "0                         Dramas, International Movies    362\n",
       "1                                        Documentaries    359\n",
       "2                                      Stand-Up Comedy    334\n",
       "3               Comedies, Dramas, International Movies    274\n",
       "4     Dramas, Independent Movies, International Movies    252\n",
       "..                                                 ...    ...\n",
       "508               TV Comedies, TV Dramas, TV Mysteries      1\n",
       "509    Action & Adventure, Sci-Fi & Fantasy, Thrillers      1\n",
       "510  Action & Adventure, Children & Family Movies, ...      1\n",
       "511                Reality TV, TV Horror, TV Thrillers      1\n",
       "512       Classic & Cult TV, Crime TV Shows, TV Dramas      1\n",
       "\n",
       "[513 rows x 2 columns]"
      ]
     },
     "execution_count": 23,
     "metadata": {},
     "output_type": "execute_result"
    }
   ],
   "source": [
    "genre_frame=df['Genre'].value_counts()\n",
    "total_genre_frame=pd.DataFrame({\"Total\":genre_frame})\n",
    "total_genre_frame=total_genre_frame.sort_values(by=\"Total\",ascending=False)\n",
    "total_genre_frame=total_genre_frame.reset_index()\n",
    "total_genre_frame=total_genre_frame.rename(columns={\"index\":\"Genre\"})\n",
    "total_genre_frame"
   ]
  },
  {
   "cell_type": "markdown",
   "id": "ec2f7325",
   "metadata": {},
   "source": [
    "Looking at the above table, Drama and Comedies genre have the highest representation in the dataset."
   ]
  },
  {
   "cell_type": "markdown",
   "id": "b04d783b",
   "metadata": {},
   "source": [
    "### Showing Total Number of Drame"
   ]
  },
  {
   "cell_type": "code",
   "execution_count": 28,
   "id": "de1caaa5",
   "metadata": {},
   "outputs": [
    {
     "data": {
      "text/html": [
       "<div>\n",
       "<style scoped>\n",
       "    .dataframe tbody tr th:only-of-type {\n",
       "        vertical-align: middle;\n",
       "    }\n",
       "\n",
       "    .dataframe tbody tr th {\n",
       "        vertical-align: top;\n",
       "    }\n",
       "\n",
       "    .dataframe thead th {\n",
       "        text-align: right;\n",
       "    }\n",
       "</style>\n",
       "<table border=\"1\" class=\"dataframe\">\n",
       "  <thead>\n",
       "    <tr style=\"text-align: right;\">\n",
       "      <th></th>\n",
       "      <th>Genre</th>\n",
       "      <th>Total</th>\n",
       "    </tr>\n",
       "  </thead>\n",
       "  <tbody>\n",
       "    <tr>\n",
       "      <th>0</th>\n",
       "      <td>Dramas, International Movies</td>\n",
       "      <td>362</td>\n",
       "    </tr>\n",
       "    <tr>\n",
       "      <th>1</th>\n",
       "      <td>Comedies, Dramas, International Movies</td>\n",
       "      <td>274</td>\n",
       "    </tr>\n",
       "    <tr>\n",
       "      <th>2</th>\n",
       "      <td>Dramas, Independent Movies, International Movies</td>\n",
       "      <td>252</td>\n",
       "    </tr>\n",
       "    <tr>\n",
       "      <th>3</th>\n",
       "      <td>Dramas, International Movies, Romantic Movies</td>\n",
       "      <td>180</td>\n",
       "    </tr>\n",
       "    <tr>\n",
       "      <th>4</th>\n",
       "      <td>Dramas</td>\n",
       "      <td>137</td>\n",
       "    </tr>\n",
       "    <tr>\n",
       "      <th>5</th>\n",
       "      <td>Dramas, International Movies, Thrillers</td>\n",
       "      <td>134</td>\n",
       "    </tr>\n",
       "    <tr>\n",
       "      <th>6</th>\n",
       "      <td>Action &amp; Adventure, Dramas, International Movies</td>\n",
       "      <td>132</td>\n",
       "    </tr>\n",
       "    <tr>\n",
       "      <th>7</th>\n",
       "      <td>International TV Shows, TV Dramas</td>\n",
       "      <td>121</td>\n",
       "    </tr>\n",
       "    <tr>\n",
       "      <th>8</th>\n",
       "      <td>Comedies, Dramas, Independent Movies</td>\n",
       "      <td>116</td>\n",
       "    </tr>\n",
       "    <tr>\n",
       "      <th>9</th>\n",
       "      <td>Crime TV Shows, International TV Shows, TV Dramas</td>\n",
       "      <td>110</td>\n",
       "    </tr>\n",
       "  </tbody>\n",
       "</table>\n",
       "</div>"
      ],
      "text/plain": [
       "                                               Genre  Total\n",
       "0                       Dramas, International Movies    362\n",
       "1             Comedies, Dramas, International Movies    274\n",
       "2   Dramas, Independent Movies, International Movies    252\n",
       "3      Dramas, International Movies, Romantic Movies    180\n",
       "4                                             Dramas    137\n",
       "5            Dramas, International Movies, Thrillers    134\n",
       "6   Action & Adventure, Dramas, International Movies    132\n",
       "7                  International TV Shows, TV Dramas    121\n",
       "8               Comedies, Dramas, Independent Movies    116\n",
       "9  Crime TV Shows, International TV Shows, TV Dramas    110"
      ]
     },
     "execution_count": 28,
     "metadata": {},
     "output_type": "execute_result"
    }
   ],
   "source": [
    "mask=total_genre_frame['Genre'].str.contains('Drama')\n",
    "drama_frame=total_genre_frame.copy(deep=True)\n",
    "\n",
    "drama_frame=drama_frame[mask]\n",
    "drama_frame=drama_frame.reset_index(drop=True)\n",
    "drama_frame.head(10)"
   ]
  },
  {
   "cell_type": "code",
   "execution_count": 29,
   "id": "412e7ad5",
   "metadata": {},
   "outputs": [
    {
     "data": {
      "text/html": [
       "<div>\n",
       "<style scoped>\n",
       "    .dataframe tbody tr th:only-of-type {\n",
       "        vertical-align: middle;\n",
       "    }\n",
       "\n",
       "    .dataframe tbody tr th {\n",
       "        vertical-align: top;\n",
       "    }\n",
       "\n",
       "    .dataframe thead th {\n",
       "        text-align: right;\n",
       "    }\n",
       "</style>\n",
       "<table border=\"1\" class=\"dataframe\">\n",
       "  <thead>\n",
       "    <tr style=\"text-align: right;\">\n",
       "      <th></th>\n",
       "      <th>Genre</th>\n",
       "      <th>Total</th>\n",
       "    </tr>\n",
       "  </thead>\n",
       "  <tbody>\n",
       "    <tr>\n",
       "      <th>0</th>\n",
       "      <td>Comedies, Dramas, International Movies</td>\n",
       "      <td>274</td>\n",
       "    </tr>\n",
       "    <tr>\n",
       "      <th>1</th>\n",
       "      <td>Comedies, Dramas, Independent Movies</td>\n",
       "      <td>116</td>\n",
       "    </tr>\n",
       "    <tr>\n",
       "      <th>2</th>\n",
       "      <td>International TV Shows, TV Comedies, TV Dramas</td>\n",
       "      <td>40</td>\n",
       "    </tr>\n",
       "    <tr>\n",
       "      <th>3</th>\n",
       "      <td>TV Comedies, TV Dramas</td>\n",
       "      <td>30</td>\n",
       "    </tr>\n",
       "    <tr>\n",
       "      <th>4</th>\n",
       "      <td>Comedies, Dramas</td>\n",
       "      <td>29</td>\n",
       "    </tr>\n",
       "    <tr>\n",
       "      <th>5</th>\n",
       "      <td>Action &amp; Adventure, Comedies, Dramas</td>\n",
       "      <td>27</td>\n",
       "    </tr>\n",
       "    <tr>\n",
       "      <th>6</th>\n",
       "      <td>Comedies, Dramas, Romantic Movies</td>\n",
       "      <td>19</td>\n",
       "    </tr>\n",
       "    <tr>\n",
       "      <th>7</th>\n",
       "      <td>Children &amp; Family Movies, Comedies, Dramas</td>\n",
       "      <td>16</td>\n",
       "    </tr>\n",
       "    <tr>\n",
       "      <th>8</th>\n",
       "      <td>Romantic TV Shows, TV Comedies, TV Dramas</td>\n",
       "      <td>11</td>\n",
       "    </tr>\n",
       "    <tr>\n",
       "      <th>9</th>\n",
       "      <td>Crime TV Shows, TV Comedies, TV Dramas</td>\n",
       "      <td>9</td>\n",
       "    </tr>\n",
       "  </tbody>\n",
       "</table>\n",
       "</div>"
      ],
      "text/plain": [
       "                                            Genre  Total\n",
       "0          Comedies, Dramas, International Movies    274\n",
       "1            Comedies, Dramas, Independent Movies    116\n",
       "2  International TV Shows, TV Comedies, TV Dramas     40\n",
       "3                          TV Comedies, TV Dramas     30\n",
       "4                                Comedies, Dramas     29\n",
       "5            Action & Adventure, Comedies, Dramas     27\n",
       "6               Comedies, Dramas, Romantic Movies     19\n",
       "7      Children & Family Movies, Comedies, Dramas     16\n",
       "8       Romantic TV Shows, TV Comedies, TV Dramas     11\n",
       "9          Crime TV Shows, TV Comedies, TV Dramas      9"
      ]
     },
     "execution_count": 29,
     "metadata": {},
     "output_type": "execute_result"
    }
   ],
   "source": [
    "mask=total_genre_frame['Genre'].str.contains('Comedies')\n",
    "comedies_frame=total_genre_frame.copy(deep=True)\n",
    "\n",
    "\n",
    "comedies_frame=comedies_frame[mask]\n",
    "comedies_frame=comedies_frame.reset_index(drop=True)\n",
    "comedies_frame.head(10)"
   ]
  },
  {
   "cell_type": "code",
   "execution_count": null,
   "id": "abd0afb4",
   "metadata": {},
   "outputs": [],
   "source": []
  }
 ],
 "metadata": {
  "kernelspec": {
   "display_name": "Python 3 (ipykernel)",
   "language": "python",
   "name": "python3"
  },
  "language_info": {
   "codemirror_mode": {
    "name": "ipython",
    "version": 3
   },
   "file_extension": ".py",
   "mimetype": "text/x-python",
   "name": "python",
   "nbconvert_exporter": "python",
   "pygments_lexer": "ipython3",
   "version": "3.9.13"
  }
 },
 "nbformat": 4,
 "nbformat_minor": 5
}
